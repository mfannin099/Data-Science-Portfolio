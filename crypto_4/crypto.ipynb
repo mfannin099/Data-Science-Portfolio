{
 "cells": [
  {
   "cell_type": "code",
   "execution_count": 1,
   "metadata": {},
   "outputs": [],
   "source": [
    "import requests\n",
    "import json\n"
   ]
  },
  {
   "cell_type": "code",
   "execution_count": 2,
   "metadata": {},
   "outputs": [],
   "source": [
    "##Prepares the data from the API to be stored in database. JSON ---> Python lists\n",
    "#Exchanges\n",
    "\n",
    "url = \"https://coinpaprika1.p.rapidapi.com/exchanges\"\n",
    "\n",
    "headers = {\n",
    "    'x-rapidapi-host': \"coinpaprika1.p.rapidapi.com\",\n",
    "    'x-rapidapi-key': \"5a962397c6mshe16c836bbeb665ap10f010jsn9acd3c2af9da\"\n",
    "    }\n",
    "\n",
    "exchange_data = requests.request(\"GET\", url, headers=headers)\n",
    "\n",
    "\n",
    "exchange_json = exchange_data.json()\n",
    "\n",
    "\n",
    "name_list = []\n",
    "describe = []\n",
    "link = []\n",
    "rank = []\n",
    "reported_rank = []\n",
    "curr = []\n",
    "mar = []\n",
    "active = []\n",
    "updated = []\n",
    "\n",
    "for i in exchange_json:\n",
    "    name = i['name']\n",
    "    name_list.append(name)\n",
    "    \n",
    "    d = i['description']\n",
    "    describe.append(d)\n",
    "    \n",
    "    l = i['links']\n",
    "    link.append(l)\n",
    "    \n",
    "    r = i['adjusted_rank']\n",
    "    rank.append(r)\n",
    "    \n",
    "    ra = i['reported_rank']\n",
    "    reported_rank.append(ra)\n",
    "    \n",
    "    c = i['currencies']\n",
    "    curr.append(c)\n",
    "    \n",
    "    m = i['markets']\n",
    "    mar.append(m)\n",
    "    \n",
    "    a = i['active']\n",
    "    active.append(a)\n",
    "    \n",
    "    u = i['last_updated']\n",
    "    updated.append(u)"
   ]
  },
  {
   "cell_type": "code",
   "execution_count": 3,
   "metadata": {},
   "outputs": [],
   "source": [
    "##Prepares the data from the API to be stored in database. JSON ---> Python lists\n",
    "#Tickers\n",
    "\n",
    "url = \"https://coinpaprika1.p.rapidapi.com/tickers\"\n",
    "\n",
    "headers = {\n",
    "    'x-rapidapi-host': \"coinpaprika1.p.rapidapi.com\",\n",
    "    'x-rapidapi-key': \"5a962397c6mshe16c836bbeb665ap10f010jsn9acd3c2af9da\"\n",
    "    }\n",
    "\n",
    "ticker = requests.request(\"GET\", url, headers=headers)\n",
    "\n",
    "ticker_json = ticker.json()\n",
    "\n",
    "name_l = []\n",
    "rank_l = []\n",
    "circulating_supply = []\n",
    "total_supply = []\n",
    "max_supply = []\n",
    "quotes = []\n",
    "id = []\n",
    "\n",
    "for i in ticker_json:\n",
    "    name = i['name']\n",
    "    name_l.append(name)\n",
    "    \n",
    "    r = i['rank']\n",
    "    rank_l.append(r)\n",
    "    \n",
    "    c = i['circulating_supply']\n",
    "    circulating_supply.append(c)\n",
    "    \n",
    "    t = i['total_supply']\n",
    "    total_supply.append(t)\n",
    "    \n",
    "    m = i['max_supply']\n",
    "    max_supply.append(m)\n",
    "    \n",
    "    q = i['quotes']\n",
    "    quotes.append(q)\n",
    "    \n",
    "    z = i['id']\n",
    "    id.append(z)\n"
   ]
  },
  {
   "cell_type": "code",
   "execution_count": 4,
   "metadata": {},
   "outputs": [],
   "source": [
    "##Start putting data into Database Using SQL"
   ]
  },
  {
   "cell_type": "code",
   "execution_count": 5,
   "metadata": {},
   "outputs": [],
   "source": [
    "#https://python-tricks.com/python-mysql-database/\n",
    "\n",
    "import pymysql\n",
    "\n",
    "db = pymysql.connect(\n",
    "  user = 'root',\n",
    "  password = 'root',\n",
    "  host = 'localhost',\n",
    "  database = 'cryptocurrency')\n",
    "\n",
    "cur = db.cursor()"
   ]
  },
  {
   "cell_type": "code",
   "execution_count": 53,
   "metadata": {},
   "outputs": [],
   "source": [
    "## CREATING ACTIVE TABLE\n",
    "\n",
    "# cur.execute(\"DROP TABLE IF EXISTS Active\")\n",
    "# cur.execute(\"CREATE TABLE Active (active VARCHAR(10), active_id INTEGER PRIMARY KEY)\")\n",
    "\n",
    "# cur.execute(\"INSERT INTO Active (active, active_id) VALUES ('yes', 1)\")\n",
    "# cur.execute(\"INSERT INTO Active (active, active_id) VALUES ('no', 0)\")\n",
    "# db.commit()"
   ]
  },
  {
   "cell_type": "code",
   "execution_count": 54,
   "metadata": {},
   "outputs": [
    {
     "data": {
      "text/plain": [
       "0"
      ]
     },
     "execution_count": 54,
     "metadata": {},
     "output_type": "execute_result"
    }
   ],
   "source": [
    "##CREATING EXCHANGE TABLE\n",
    "\n",
    "cur.execute(\"DROP TABLE IF EXISTS Exchange\")\n",
    "cur.execute(\"CREATE TABLE Exchange (id INTEGER NOT NULL AUTO_INCREMENT, PRIMARY KEY (id), name VARCHAR(100), description VARCHAR(5000), links VARCHAR(1000), adjusted_rank VARCHAR(10), reported_rank VARCHAR(10), currencies VARCHAR(10), markets VARCHAR(10), price VARCHAR(1000), active_id INTEGER, CONSTRAINT FOREIGN KEY (active_id) REFERENCES Active (active_id) ON DELETE CASCADE ON UPDATE CASCADE, last_updated VARCHAR(25))\")"
   ]
  },
  {
   "cell_type": "code",
   "execution_count": 55,
   "metadata": {},
   "outputs": [],
   "source": [
    "#In order to get the price of the currency, I had to loop through the quotes and create a new list with the values I wanted \n",
    "price_list = []\n",
    "for i in quotes:\n",
    "    price = (i['USD']['price'])\n",
    "    price_list.append(price)\n",
    "    \n",
    "site = []\n",
    "for i in link: \n",
    "    try:\n",
    "        web = (i['website'])\n",
    "        site.append(web)\n",
    "    except:\n",
    "        site.append(' ')\n",
    "    \n",
    "##INSERTING INTO EXCHANGE TABLE\n",
    "for i in range(len(name_list)):\n",
    "    cur.execute(\"INSERT INTO Exchange(name, description, links, adjusted_rank, reported_rank, currencies, markets, price, active_id, last_updated) VALUES ( %s, %s, %s, %s, %s, %s, %s, %s, %s, %s)\", (name_list[i], describe[i], (site[i][0]), rank[i], reported_rank[i], curr[i], mar[i], price_list[i], active[i], updated[i]))\n",
    "    db.commit()\n"
   ]
  },
  {
   "cell_type": "code",
   "execution_count": 6,
   "metadata": {},
   "outputs": [
    {
     "data": {
      "text/plain": [
       "0"
      ]
     },
     "execution_count": 6,
     "metadata": {},
     "output_type": "execute_result"
    }
   ],
   "source": [
    "##Creating the table for the ticker call \n",
    "\n",
    "cur.execute(\"DROP TABLE IF EXISTS Ticker\")\n",
    "cur.execute(\"CREATE TABLE Ticker (id_num INTEGER NOT NULL AUTO_INCREMENT, PRIMARY KEY (id_num), ticker_id VARCHAR(100), name VARCHAR(100), rank BIGINT, circulating_supply BIGINT, total_supply BIGINT, max_supply BIGINT)\")"
   ]
  },
  {
   "cell_type": "code",
   "execution_count": 7,
   "metadata": {},
   "outputs": [],
   "source": [
    "## INSERTING INTO TICKER TABLE\n",
    "\n",
    "for i in range(len(name_l)):\n",
    "    cur.execute(\"INSERT INTO Ticker(name, ticker_id, rank, circulating_supply, total_supply, max_supply) VALUES( %s, %s, %s, %s, %s, %s)\", (name_l[i], id[i], rank_l[i], circulating_supply[i], total_supply[i], max_supply[i]))\n",
    "    db.commit()"
   ]
  },
  {
   "cell_type": "code",
   "execution_count": 80,
   "metadata": {},
   "outputs": [
    {
     "data": {
      "text/plain": [
       "30"
      ]
     },
     "execution_count": 80,
     "metadata": {},
     "output_type": "execute_result"
    }
   ],
   "source": [
    "##Practicing differnt SQL commands\n",
    "#All SQL commands written here are then transferred over to MAMP (MYPHPAdmin) so that I can see the result\n",
    "# Practice merging\n",
    "cur.execute('SELECT Exchange.name, Exchange.price, Ticker.circulating_supply, Ticker.total_supply FROM Exchange INNER JOIN Ticker ON Exchange.name = Ticker.name')"
   ]
  },
  {
   "cell_type": "code",
   "execution_count": 82,
   "metadata": {},
   "outputs": [
    {
     "data": {
      "text/plain": [
       "1"
      ]
     },
     "execution_count": 82,
     "metadata": {},
     "output_type": "execute_result"
    }
   ],
   "source": [
    "##Commands practiced comes from: https://www.analyticsvidhya.com/blog/2020/07/8-sql-techniques-data-analysis-analytics-data-science/\n",
    "cur.execute('select count(*) from Exchange')"
   ]
  },
  {
   "cell_type": "code",
   "execution_count": 83,
   "metadata": {},
   "outputs": [
    {
     "data": {
      "text/plain": [
       "133"
      ]
     },
     "execution_count": 83,
     "metadata": {},
     "output_type": "execute_result"
    }
   ],
   "source": [
    "## Analytics using SQL \n",
    "\n",
    "cur.execute('select distinct markets from Exchange')"
   ]
  },
  {
   "cell_type": "code",
   "execution_count": 6,
   "metadata": {},
   "outputs": [
    {
     "data": {
      "text/plain": [
       "1"
      ]
     },
     "execution_count": 6,
     "metadata": {},
     "output_type": "execute_result"
    }
   ],
   "source": [
    "## Practice with basic statistics queries with SQL\n",
    "\n",
    "cur.execute('select sum(max_supply) from Ticker')\n",
    "cur.execute('select avg(max_supply) from Ticker')\n",
    "cur.execute('select stddev(max_supply) from Ticker')\n",
    "cur.execute('select max(max_supply) from Ticker')\n",
    "cur.execute('select min(max_supply) from Ticker')"
   ]
  },
  {
   "cell_type": "code",
   "execution_count": null,
   "metadata": {},
   "outputs": [],
   "source": [
    "## Practice making queries to slice data\n",
    "\n",
    "cur.execute('select name from Exchange where price between 5 and 50 and reported_rank < 100')\n",
    "cur.execute('select ticker_id from Ticker where rank < 5')"
   ]
  },
  {
   "cell_type": "code",
   "execution_count": 6,
   "metadata": {},
   "outputs": [],
   "source": [
    "## Creating a new table that is based upon the id's from the query: select ticker_id from Ticker where rank < 5\n",
    "\n",
    "url = \"https://coinpaprika1.p.rapidapi.com/coins/btc-bitcoin/events\"\n",
    "\n",
    "headers = {\n",
    "    'x-rapidapi-host': \"coinpaprika1.p.rapidapi.com\",\n",
    "    'x-rapidapi-key': \"5a962397c6mshe16c836bbeb665ap10f010jsn9acd3c2af9da\"\n",
    "    }\n",
    "\n",
    "btc = requests.request(\"GET\", url, headers=headers).json()\n",
    "\n",
    "url = \"https://coinpaprika1.p.rapidapi.com/coins/eth-ethereum/events\"\n",
    "\n",
    "headers = {\n",
    "    'x-rapidapi-host': \"coinpaprika1.p.rapidapi.com\",\n",
    "    'x-rapidapi-key': \"5a962397c6mshe16c836bbeb665ap10f010jsn9acd3c2af9da\"\n",
    "    }\n",
    "\n",
    "eth = requests.request(\"GET\", url, headers=headers).json()\n",
    "\n",
    "url = \"https://coinpaprika1.p.rapidapi.com/coins/xrp-xrp/events\"\n",
    "\n",
    "headers = {\n",
    "    'x-rapidapi-host': \"coinpaprika1.p.rapidapi.com\",\n",
    "    'x-rapidapi-key': \"5a962397c6mshe16c836bbeb665ap10f010jsn9acd3c2af9da\"\n",
    "    }\n",
    "\n",
    "xrp = requests.request(\"GET\", url, headers=headers).json()\n",
    "\n",
    "url = \"https://coinpaprika1.p.rapidapi.com/coins/usdt-tether/events\"\n",
    "\n",
    "headers = {\n",
    "    'x-rapidapi-host': \"coinpaprika1.p.rapidapi.com\",\n",
    "    'x-rapidapi-key': \"5a962397c6mshe16c836bbeb665ap10f010jsn9acd3c2af9da\"\n",
    "    }\n",
    "\n",
    "usdt = requests.request(\"GET\", url, headers=headers).json()\n",
    "\n"
   ]
  },
  {
   "cell_type": "code",
   "execution_count": 7,
   "metadata": {},
   "outputs": [],
   "source": [
    "##Creating and populating table for Bitcoin\n",
    "\n",
    "ids = []\n",
    "dates = []\n",
    "names = []\n",
    "describes = []\n",
    "lin = []\n",
    "\n",
    "for i in btc:\n",
    "    a = i['id']\n",
    "    ids.append(a)\n",
    "    \n",
    "    b = i['date']\n",
    "    dates.append(b)\n",
    "    \n",
    "    c = i['name']\n",
    "    names.append(c)\n",
    "    \n",
    "    d = i['description']\n",
    "    describes.append(d)\n",
    "    \n",
    "    e = i['link']\n",
    "    lin.append(e)\n",
    "    \n",
    "cur.execute(\"DROP TABLE IF EXISTS Bitcoin\")\n",
    "cur.execute(\"CREATE TABLE Bitcoin (id VARCHAR(100), date VARCHAR(50), name VARCHAR(100), description VARCHAR(1000), link VARCHAR(200))\")\n",
    "\n",
    "for i in range(len(ids)):\n",
    "    cur.execute(\"INSERT INTO Bitcoin(id, date, name, description, link) VALUES( %s, %s, %s, %s, %s)\", (ids[i], dates[i], names[i], describes[i], lin[i]))\n",
    "    db.commit()"
   ]
  },
  {
   "cell_type": "code",
   "execution_count": 8,
   "metadata": {},
   "outputs": [],
   "source": [
    "##Creating and populating table for Ethereum\n",
    "\n",
    "ids = []\n",
    "dates = []\n",
    "names = []\n",
    "describes = []\n",
    "lin = []\n",
    "\n",
    "for i in eth:\n",
    "    a = i['id']\n",
    "    ids.append(a)\n",
    "    \n",
    "    b = i['date']\n",
    "    dates.append(b)\n",
    "    \n",
    "    c = i['name']\n",
    "    names.append(c)\n",
    "    \n",
    "    d = i['description']\n",
    "    describes.append(d)\n",
    "    \n",
    "    e = i['link']\n",
    "    lin.append(e)\n",
    "    \n",
    "cur.execute(\"DROP TABLE IF EXISTS Ethereum\")\n",
    "cur.execute(\"CREATE TABLE Ethereum (id VARCHAR(100), date VARCHAR(50), name VARCHAR(100), description VARCHAR(1000), link VARCHAR(200))\")\n",
    "\n",
    "for i in range(len(ids)):\n",
    "    cur.execute(\"INSERT INTO Ethereum(id, date, name, description, link) VALUES( %s, %s, %s, %s, %s)\", (ids[i], dates[i], names[i], describes[i], lin[i]))\n",
    "    db.commit()"
   ]
  },
  {
   "cell_type": "code",
   "execution_count": 9,
   "metadata": {},
   "outputs": [],
   "source": [
    "##Creating and populating table for Xrp\n",
    "\n",
    "ids = []\n",
    "dates = []\n",
    "names = []\n",
    "describes = []\n",
    "lin = []\n",
    "\n",
    "for i in xrp:\n",
    "    a = i['id']\n",
    "    ids.append(a)\n",
    "    \n",
    "    b = i['date']\n",
    "    dates.append(b)\n",
    "    \n",
    "    c = i['name']\n",
    "    names.append(c)\n",
    "    \n",
    "    d = i['description']\n",
    "    describes.append(d)\n",
    "    \n",
    "    e = i['link']\n",
    "    lin.append(e)\n",
    "    \n",
    "cur.execute(\"DROP TABLE IF EXISTS Xrp\")\n",
    "cur.execute(\"CREATE TABLE Xrp (id VARCHAR(100), date VARCHAR(50), name VARCHAR(100), description VARCHAR(1000), link VARCHAR(200))\")\n",
    "\n",
    "for i in range(len(ids)):\n",
    "    cur.execute(\"INSERT INTO Xrp(id, date, name, description, link) VALUES( %s, %s, %s, %s, %s)\", (ids[i], dates[i], names[i], describes[i], lin[i]))\n",
    "    db.commit()"
   ]
  },
  {
   "cell_type": "code",
   "execution_count": 10,
   "metadata": {},
   "outputs": [],
   "source": [
    "##Creating and populating table for Tether, Unfortunatly empty\n",
    "\n",
    "ids = []\n",
    "dates = []\n",
    "names = []\n",
    "describes = []\n",
    "lin = []\n",
    "\n",
    "for i in usdt:\n",
    "    a = i['id']\n",
    "    ids.append(a)\n",
    "    \n",
    "    b = i['date']\n",
    "    dates.append(b)\n",
    "    \n",
    "    c = i['name']\n",
    "    names.append(c)\n",
    "    \n",
    "    d = i['description']\n",
    "    describes.append(d)\n",
    "    \n",
    "    e = i['link']\n",
    "    lin.append(e)\n",
    "    \n",
    "cur.execute(\"DROP TABLE IF EXISTS Tether\")\n",
    "cur.execute(\"CREATE TABLE Tether (id VARCHAR(100), date VARCHAR(50), name VARCHAR(100), description VARCHAR(1000), link VARCHAR(200))\")\n",
    "\n",
    "for i in range(len(ids)):\n",
    "    cur.execute(\"INSERT INTO Tether(id, date, name, description, link) VALUES( %s, %s, %s, %s, %s)\", (ids[i], dates[i], names[i], describes[i], lin[i]))\n",
    "    db.commit()"
   ]
  },
  {
   "cell_type": "code",
   "execution_count": null,
   "metadata": {},
   "outputs": [],
   "source": [
    "cur.execute(\"select * from Exchange limit 10\")\n",
    "cur.execute(\"select * from Exchange limit 10 offset 4\")\n",
    "\n",
    "cur.execute(\"select * from Ticker order by total_supply\")\n",
    "cur.execute(\"select * from Ticker order by total_supply desc limit 15\")\n",
    "\n",
    "cur.execute('select * from Ticker where ticker_id like \"%coin\"')"
   ]
  }
 ],
 "metadata": {
  "kernelspec": {
   "display_name": "Python 3",
   "language": "python",
   "name": "python3"
  },
  "language_info": {
   "codemirror_mode": {
    "name": "ipython",
    "version": 3
   },
   "file_extension": ".py",
   "mimetype": "text/x-python",
   "name": "python",
   "nbconvert_exporter": "python",
   "pygments_lexer": "ipython3",
   "version": "3.7.6"
  }
 },
 "nbformat": 4,
 "nbformat_minor": 4
}
