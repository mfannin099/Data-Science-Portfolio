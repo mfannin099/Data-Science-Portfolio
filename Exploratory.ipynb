{
 "cells": [
  {
   "cell_type": "code",
   "execution_count": 1,
   "metadata": {},
   "outputs": [],
   "source": [
    "import pandas as pd\n",
    "import seaborn as sns"
   ]
  },
  {
   "cell_type": "code",
   "execution_count": 2,
   "metadata": {},
   "outputs": [
    {
     "name": "stderr",
     "output_type": "stream",
     "text": [
      "C:\\Users\\matt\\Anaconda3\\lib\\site-packages\\IPython\\core\\interactiveshell.py:3063: DtypeWarning: Columns (0,1) have mixed types.Specify dtype option on import or set low_memory=False.\n",
      "  interactivity=interactivity, compiler=compiler, result=result)\n"
     ]
    }
   ],
   "source": [
    "##Importing the data\n",
    "\n",
    "# data = pd.read_csv('aadl_data.csv')\n",
    "data = pd.read_csv(\"sg_ledger_anonymized.tsv\",sep='\\t')\n"
   ]
  },
  {
   "cell_type": "code",
   "execution_count": null,
   "metadata": {},
   "outputs": [],
   "source": [
    "summer18 = data.loc[data['game_term']==\"SummerGame2018\"]\n",
    "len(summer18)"
   ]
  },
  {
   "cell_type": "code",
   "execution_count": null,
   "metadata": {},
   "outputs": [],
   "source": [
    "summer18_noshop2 = summer18.groupby(['pid']).sum()\n",
    "len(summer18_noshop2)"
   ]
  },
  {
   "cell_type": "code",
   "execution_count": null,
   "metadata": {},
   "outputs": [],
   "source": [
    "df2 = summer18.copy()"
   ]
  },
  {
   "cell_type": "code",
   "execution_count": null,
   "metadata": {},
   "outputs": [],
   "source": [
    "##https://www.geeksforgeeks.org/how-to-drop-rows-in-dataframe-by-conditions-on-column-values/\n",
    "#Getting rid of the Shop Orders \n",
    "\n",
    "index_names = summer18[summer18['type'] == 'Shop Order'].index \n",
    "summer18_noshop = summer18.drop(index_names) \n",
    "\n",
    "summer18_noshop =summer18_noshop.drop(summer18_noshop.loc[(summer18_noshop['description'].str.contains('Points awarded')) & (summer18_noshop['type']=='Geekly Intervention')].index)\n",
    "#summer18_noshop"
   ]
  },
  {
   "cell_type": "code",
   "execution_count": null,
   "metadata": {},
   "outputs": [],
   "source": [
    "## Getting rid of the point.transfers and refunds that are found in the description\n",
    "\n",
    "summer18_noshop['oof'] = summer18_noshop.description.str.contains('Transfer')\n",
    "summer18_noshop['oof2'] = summer18_noshop.description.str.contains('Refund')\n",
    "summer18_noshop['oof3'] = summer18_noshop.description.str.contains('Shop Order')\n",
    "\n",
    "df3 = summer18_noshop.loc[summer18_noshop['oof']==False]\n",
    "df4_2018 = df3.loc[df3['oof2']==False]"
   ]
  },
  {
   "cell_type": "code",
   "execution_count": null,
   "metadata": {},
   "outputs": [],
   "source": [
    "##Summing points from the 2018 games each player got\n",
    "pd.set_option('display.float_format', lambda x: '%.2f' % x)\n",
    "summer18_max = df4_2018.groupby(['pid']).sum()\n",
    "sum_18 = summer18_max.points.describe()\n",
    "sum_18"
   ]
  },
  {
   "cell_type": "code",
   "execution_count": null,
   "metadata": {},
   "outputs": [],
   "source": [
    "# summer18_max2 = summer18_max.loc[summer18_max['points'] >= 2000]\n",
    "# summer18_max2.points.describe()"
   ]
  },
  {
   "cell_type": "code",
   "execution_count": null,
   "metadata": {},
   "outputs": [],
   "source": [
    "# summer18_max3 = summer18_max.loc[summer18_max['points'] >= 25000]\n",
    "# summer18_max3.points.describe()"
   ]
  },
  {
   "cell_type": "code",
   "execution_count": 3,
   "metadata": {},
   "outputs": [
    {
     "data": {
      "text/plain": [
       "count      9339.000000\n",
       "mean      19081.475426\n",
       "std       24929.449095\n",
       "min           1.000000\n",
       "25%        1700.000000\n",
       "50%       10750.000000\n",
       "75%       27096.000000\n",
       "max      313594.000000\n",
       "Name: points, dtype: float64"
      ]
     },
     "execution_count": 3,
     "metadata": {},
     "output_type": "execute_result"
    }
   ],
   "source": [
    "summer19 = data.loc[data['game_term']==\"SummerGame2019\"]\n",
    "summer19_noshop2 = summer19.groupby(['pid']).sum()\n",
    "df2 = summer19.copy()\n",
    "\n",
    "index_names = summer19[summer19['type'] == 'Shop Order'].index \n",
    "summer19_noshop = summer19.drop(index_names) \n",
    "summer19_noshop =summer19_noshop.drop(summer19_noshop.loc[(summer19_noshop['description'].str.contains('Points awarded')) & (summer19_noshop['type']=='Geekly Intervention')].index)\n",
    "\n",
    "summer19_noshop['oof'] = summer19_noshop.description.str.contains('Transfer')\n",
    "summer19_noshop['oof2'] = summer19_noshop.description.str.contains('Refund')\n",
    "summer19_noshop['oof3'] = summer19_noshop.description.str.contains('Shop Order')\n",
    "\n",
    "df3 = summer19_noshop.loc[summer19_noshop['oof']==False]\n",
    "df4_2019 = df3.loc[df3['oof2']==False]\n",
    "\n",
    "summer19_max = df4_2019.groupby(['pid']).sum()\n",
    "sum_19 = summer19_max.points.describe()\n",
    "sum_19"
   ]
  },
  {
   "cell_type": "code",
   "execution_count": null,
   "metadata": {},
   "outputs": [],
   "source": [
    "# summer19_max2 = summer19_max.loc[summer19_max['points'] >= 2000]\n",
    "# summer19_max2.points.describe()"
   ]
  },
  {
   "cell_type": "code",
   "execution_count": null,
   "metadata": {},
   "outputs": [],
   "source": [
    "# summer19_max3 = summer19_max.loc[summer19_max['points'] >= 25000]\n",
    "# summer19_max3.points.describe()"
   ]
  },
  {
   "cell_type": "code",
   "execution_count": null,
   "metadata": {},
   "outputs": [],
   "source": [
    "summer20 = data.loc[data['game_term']==\"SummerGame2020\"]\n",
    "summer20_noshop2 = summer20.groupby(['pid']).sum()\n",
    "df2 = summer20.copy()\n",
    "\n",
    "index_names = summer20[summer20['type'] == 'Shop Order'].index \n",
    "summer20_noshop = summer20.drop(index_names) \n",
    "summer20_noshop =summer20_noshop.drop(summer20_noshop.loc[(summer20_noshop['description'].str.contains('Points awarded')) & (summer20_noshop['type']=='Geekly Intervention')].index)\n",
    "\n",
    "summer20_noshop['oof'] = summer20_noshop.description.str.contains('Transfer')\n",
    "summer20_noshop['oof2'] = summer20_noshop.description.str.contains('Refund')\n",
    "summer20_noshop['oof3'] = summer20_noshop.description.str.contains('Shop Order')\n",
    "\n",
    "df3 = summer20_noshop.loc[summer20_noshop['oof']==False]\n",
    "df4_2020 = df3.loc[df3['oof2']==False]\n",
    "\n",
    "summer20_max = df4_2020.groupby(['pid']).sum()\n",
    "sum_20 = summer20_max.points.describe()\n",
    "sum_20"
   ]
  },
  {
   "cell_type": "code",
   "execution_count": null,
   "metadata": {},
   "outputs": [],
   "source": [
    "# summer20_max2 = summer20_max.loc[summer20_max['points'] >= 2000]\n",
    "# summer20_max2.points.describe()"
   ]
  },
  {
   "cell_type": "code",
   "execution_count": null,
   "metadata": {},
   "outputs": [],
   "source": [
    "# summer20_max3 = summer20_max.loc[summer20_max['points'] >= 25000]\n",
    "# summer20_max3.points.describe()"
   ]
  },
  {
   "cell_type": "code",
   "execution_count": null,
   "metadata": {},
   "outputs": [],
   "source": [
    "import numpy as np\n",
    "import matplotlib.pyplot as plt\n",
    "\n",
    "fig1, ax1 = plt.subplots()\n",
    "ax1.set_title('Player Scores from 2018-2020 (Outliers Removed)')\n",
    "ax1.boxplot([sum_18, sum_19, sum_20], \n",
    "            vert = False, showfliers = False, labels = ['2018', '2019', '2020'])"
   ]
  },
  {
   "cell_type": "markdown",
   "metadata": {},
   "source": [
    "## At this point restart all kernals\n",
    "### maxed out my memory"
   ]
  },
  {
   "cell_type": "code",
   "execution_count": null,
   "metadata": {},
   "outputs": [],
   "source": [
    "##Dont run this again\n",
    "# df = data.loc[(data['game_term']==\"SummerGame2018\") | (data['game_term']==\"SummerGame2019\") | (data['game_term']==\"SummerGame2020\")]\n",
    "# df.to_csv('full_df.csv')\n"
   ]
  },
  {
   "cell_type": "code",
   "execution_count": null,
   "metadata": {},
   "outputs": [],
   "source": [
    "##Working with filtered dataset, from 2018-2020\n",
    "import pandas as pd\n",
    "df = pd.read_csv(\"full_df.csv\")"
   ]
  },
  {
   "cell_type": "code",
   "execution_count": null,
   "metadata": {},
   "outputs": [],
   "source": [
    "index_names = df[df['type'] == 'Shop Order'].index \n",
    "summer19_noshop = df.drop(index_names) \n",
    "summer19_noshop =summer19_noshop.drop(summer19_noshop.loc[(summer19_noshop['description'].str.contains('Points awarded')) & (summer19_noshop['type']=='Geekly Intervention')].index)\n",
    "\n",
    "summer19_noshop['oof'] = summer19_noshop.description.str.contains('Transfer')\n",
    "summer19_noshop['oof2'] = summer19_noshop.description.str.contains('Refund')\n",
    "summer19_noshop['oof3'] = summer19_noshop.description.str.contains('Shop Order')\n",
    "\n",
    "df3 = summer19_noshop.loc[summer19_noshop['oof']==False]\n",
    "full_df = df3.loc[df3['oof2']==False]\n",
    "full_df.head(3)"
   ]
  },
  {
   "cell_type": "code",
   "execution_count": null,
   "metadata": {},
   "outputs": [],
   "source": [
    "freq = full_df.type.value_counts()\n",
    "\n",
    "##Visual representation of previous value counts\n",
    "\n",
    "freq.plot(kind = 'barh')"
   ]
  },
  {
   "cell_type": "code",
   "execution_count": null,
   "metadata": {},
   "outputs": [],
   "source": [
    "types = full_df.groupby(['type']).sum()\n",
    "types"
   ]
  },
  {
   "cell_type": "code",
   "execution_count": null,
   "metadata": {},
   "outputs": [],
   "source": [
    "total = types['points'].sum()\n",
    "total"
   ]
  },
  {
   "cell_type": "code",
   "execution_count": null,
   "metadata": {},
   "outputs": [],
   "source": [
    "((types / total) * 100).round(2)"
   ]
  },
  {
   "cell_type": "code",
   "execution_count": null,
   "metadata": {},
   "outputs": [],
   "source": [
    "occurances = full_df.type.value_counts()\n",
    "occurances"
   ]
  },
  {
   "cell_type": "code",
   "execution_count": null,
   "metadata": {},
   "outputs": [],
   "source": [
    "total2 = occurances.sum()\n",
    "total2"
   ]
  },
  {
   "cell_type": "code",
   "execution_count": null,
   "metadata": {},
   "outputs": [],
   "source": [
    "((occurances / total2) * 100).round(2)"
   ]
  },
  {
   "cell_type": "code",
   "execution_count": null,
   "metadata": {},
   "outputs": [],
   "source": [
    "from scipy import stats\n",
    "import numpy as np \n",
    "\n",
    "thingsMean = np.mean(full_df.points)\n",
    "thingsMedian = np.median(full_df.points)\n",
    "thingsMode = stats.mode(full_df.points)\n",
    "\n",
    "print(thingsMean, thingsMedian, thingsMode)\n",
    "\n",
    "##Average value in points: 92\n",
    "##Median value in points 40\n",
    "##most common value: 50 \n",
    "##Working from the unlcleaned dataset"
   ]
  },
  {
   "cell_type": "code",
   "execution_count": null,
   "metadata": {},
   "outputs": [],
   "source": [
    "##Creating dataframe of just Gamecode is, since it occurs the most in the dataset\n",
    "\n",
    "game_code = df[df['type'] == 'Game Code']\n",
    "game_code.head()"
   ]
  },
  {
   "cell_type": "code",
   "execution_count": null,
   "metadata": {},
   "outputs": [],
   "source": [
    "game_code.points.describe()"
   ]
  },
  {
   "cell_type": "code",
   "execution_count": null,
   "metadata": {},
   "outputs": [],
   "source": [
    "shop_order = df[df['type'] == 'Shop Order']\n",
    "shop_order2 = shop_order.groupby(['pid']).points.sum()\n",
    "\n",
    "points = full_df.groupby(['pid']).points.sum()\n"
   ]
  },
  {
   "cell_type": "code",
   "execution_count": null,
   "metadata": {},
   "outputs": [],
   "source": [
    "spent_points = pd.merge(left=shop_order2, right=points, how='inner', left_on='pid', right_on='pid')\n",
    "spent_points['difference'] = spent_points['points_y'] + spent_points['points_x']\n",
    "spent_points['difference'].mean()"
   ]
  },
  {
   "cell_type": "code",
   "execution_count": null,
   "metadata": {},
   "outputs": [],
   "source": [
    "## Starting code for each game"
   ]
  },
  {
   "cell_type": "code",
   "execution_count": null,
   "metadata": {},
   "outputs": [],
   "source": [
    "shop_order18 = summer18[summer18['type'] == 'Shop Order']\n",
    "shop_order18_2 = shop_order18.groupby(['pid']).points.sum()\n",
    "\n",
    "points = df4_2018.groupby(['pid']).points.sum()\n",
    "\n",
    "spent_points18 = pd.merge(left=shop_order18_2, right=points, how='inner', left_on='pid', right_on='pid')\n",
    "spent_points18['difference'] = spent_points18['points_y'] + spent_points18['points_x']\n",
    "spent_points18['points_y'].mean()"
   ]
  },
  {
   "cell_type": "code",
   "execution_count": null,
   "metadata": {},
   "outputs": [],
   "source": []
  },
  {
   "cell_type": "code",
   "execution_count": 5,
   "metadata": {},
   "outputs": [
    {
     "data": {
      "text/plain": [
       "-19965.02653159672"
      ]
     },
     "execution_count": 5,
     "metadata": {},
     "output_type": "execute_result"
    }
   ],
   "source": [
    "shop_order19 = summer19[summer19['type'] == 'Shop Order']\n",
    "shop_order19_2 = shop_order19.groupby(['pid']).points.sum()\n",
    "\n",
    "points = df4_2019.groupby(['pid']).points.sum()\n",
    "\n",
    "spent_points19 = pd.merge(left=shop_order19_2, right=points, how='inner', left_on='pid', right_on='pid')\n",
    "spent_points19['difference'] = spent_points19['points_y'] + spent_points19['points_x']\n",
    "spent_points19['points_x'].mean()"
   ]
  },
  {
   "cell_type": "code",
   "execution_count": null,
   "metadata": {},
   "outputs": [],
   "source": []
  },
  {
   "cell_type": "code",
   "execution_count": null,
   "metadata": {},
   "outputs": [],
   "source": [
    "shop_order20 = summer20[summer20['type'] == 'Shop Order']\n",
    "shop_order20_2 = shop_order20.groupby(['pid']).points.sum()\n",
    "\n",
    "points = df4_2020.groupby(['pid']).points.sum()\n",
    "\n",
    "spent_points20 = pd.merge(left=shop_order20_2, right=points, how='inner', left_on='pid', right_on='pid')\n",
    "spent_points20['difference'] = spent_points20['points_y'] + spent_points20['points_x']\n",
    "spent_points20['points_y'].mean()\n"
   ]
  },
  {
   "cell_type": "code",
   "execution_count": null,
   "metadata": {},
   "outputs": [],
   "source": [
    "spent_points20.head(1)"
   ]
  }
 ],
 "metadata": {
  "kernelspec": {
   "display_name": "Python 3",
   "language": "python",
   "name": "python3"
  },
  "language_info": {
   "codemirror_mode": {
    "name": "ipython",
    "version": 3
   },
   "file_extension": ".py",
   "mimetype": "text/x-python",
   "name": "python",
   "nbconvert_exporter": "python",
   "pygments_lexer": "ipython3",
   "version": "3.7.6"
  }
 },
 "nbformat": 4,
 "nbformat_minor": 4
}
